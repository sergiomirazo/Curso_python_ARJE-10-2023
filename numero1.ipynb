{
 "cells": [
  {
   "cell_type": "markdown",
   "metadata": {},
   "source": [
    "<h1 style='color: #10e3e3'>Ejercicios para practicar listas, tuplas, diccionarios </h1>"
   ]
  },
  {
   "cell_type": "markdown",
   "metadata": {},
   "source": [
    "<p style='color: whitesmoke'>1. Crea una lista con los números del 1 al 10 y luego utiliza un loop para imprimir cada elemento.</p>"
   ]
  },
  {
   "cell_type": "code",
   "execution_count": 1,
   "metadata": {},
   "outputs": [
    {
     "name": "stdout",
     "output_type": "stream",
     "text": [
      "1\n",
      "2\n",
      "3\n",
      "4\n",
      "5\n",
      "6\n",
      "7\n",
      "8\n",
      "9\n",
      "10\n"
     ]
    }
   ],
   "source": [
    "lista = []\n",
    "lista2 = [1,2,3,4,5,6,7,8,9,10]\n",
    "for i in range(10):\n",
    "    lista.append(i+1)\n",
    "\n",
    "for elemento in lista:\n",
    "    print(elemento)\n"
   ]
  },
  {
   "cell_type": "markdown",
   "metadata": {},
   "source": [
    "3. Crea una tupla con diferentes tipos de datos, como strings, números y booleans. Luego accede a cada elemento e imprímelo."
   ]
  },
  {
   "cell_type": "code",
   "execution_count": 4,
   "metadata": {},
   "outputs": [
    {
     "name": "stdout",
     "output_type": "stream",
     "text": [
      "2\n",
      "3\n",
      "4\n",
      "5\n",
      "6\n",
      "7\n",
      "8\n",
      "9\n",
      "10\n",
      "1.9\n",
      "2.0\n"
     ]
    }
   ],
   "source": [
    "tupla = (1,2,3,4,5,6,7,8,9,10, 'duraznos', 'manzanas', 'melones', 'peras', 'uvas', 'sandias', 'naranjas', 'mandarinas', 'fresas', 'cerezas', True, False, 1.5, 1.6, 1.7, 1.8, 1.9, 2.0)\n",
    "for elemento in tupla:\n",
    "    if (type(elemento)==float or type(elemento)==int) and elemento > 1.8:\n",
    "        print(elemento)\n",
    "\n"
   ]
  },
  {
   "cell_type": "markdown",
   "metadata": {},
   "source": [
    "9. Crea un diccionario con los nombres de usuarios como keys y su cumpleaños como values, email, password"
   ]
  },
  {
   "cell_type": "code",
   "execution_count": 8,
   "metadata": {},
   "outputs": [
    {
     "name": "stdout",
     "output_type": "stream",
     "text": [
      "The field does not exist\n"
     ]
    }
   ],
   "source": [
    "user1 = {'Name': 'John', 'Birthday': '14/10/2002', 'email': 'john@gmail.com', 'password': 'gbjafadqwddbasdas'}\n",
    "user2 = {'Name': 'Maria', 'Birthday': '07/02/1998', 'email': 'maria@gmail.com', 'password': 'dsanj43643nklf34'}\n",
    "user3 = {'Name': 'Itsel', 'Birthday': '14/12/2002', 'email': 'itsel@gmail.com', 'password': '114569/*/*3/52/2*'}\n",
    "\n",
    "data = [user1, user2, user3]\n",
    "key = input('Enter the field you want to search: ')\n",
    "\n",
    "if key in data[0]:\n",
    "    for i in range(len(data)):\n",
    "        print(data[i][key])\n",
    "else:\n",
    "    print('The field does not exist')\n",
    "\n"
   ]
  },
  {
   "cell_type": "markdown",
   "metadata": {},
   "source": [
    "Escribir un codigo para desplegar un catalogo de peliculas mas taquilleras, buscar por pelicula"
   ]
  },
  {
   "cell_type": "code",
   "execution_count": 12,
   "metadata": {},
   "outputs": [],
   "source": [
    "p1 = {'Titulo': 'Lo que el viento se llevó', 'Anno': 1939, 'Director': 'Victor Fleming', 'Duracion': 238, 'Genero': 'Drama'}\n",
    "p2 = {'Titulo': 'Titanic', 'Anno': 1997, 'Director': 'James Cameron', 'Duracion': 194, 'Genero': 'Drama'}\n",
    "p3 = {'Titulo': 'Avatar', 'Anno': 2009, 'Director': 'James Cameron', 'Duracion': 162, 'Genero': 'Ciencia ficción'}\n",
    "p4 = {'Titulo': 'Star Wars. Episodio IV: Una nueva esperanza', 'Anno': 1977, 'Director': 'George Lucas', 'Duracion': 121, 'Genero': 'Ciencia ficción'}\n",
    "p5 = {'Titulo': 'Avengers: Endgame', 'Anno': 2019, 'Director': 'Anthony Russo', 'Duracion': 181, 'Genero': 'Ciencia ficción'}\n",
    "\n",
    "peliculas = [p1, p2, p3, p4, p5]\n",
    "value = input('Ingresa el título de la pelicula que quieres buscar: ')\n",
    "\n",
    "for i in range(len(peliculas)):\n",
    "    if peliculas[i]['Titulo'] == value:\n",
    "        print(peliculas[i]['Titulo']+'\\n')\n",
    "        print(str(peliculas[i]['Anno'])+'\\n')\n",
    "        print(peliculas[i]['Director']+'\\n')\n",
    "        print(str(peliculas[i]['Duracion'])+'\\n')\n",
    "        print(peliculas[i]['Genero']+'\\n')\n",
    "        break\n",
    "    else:\n",
    "        pass"
   ]
  },
  {
   "cell_type": "code",
   "execution_count": null,
   "metadata": {},
   "outputs": [],
   "source": []
  }
 ],
 "metadata": {
  "kernelspec": {
   "display_name": "Python 3",
   "language": "python",
   "name": "python3"
  },
  "language_info": {
   "codemirror_mode": {
    "name": "ipython",
    "version": 3
   },
   "file_extension": ".py",
   "mimetype": "text/x-python",
   "name": "python",
   "nbconvert_exporter": "python",
   "pygments_lexer": "ipython3",
   "version": "3.11.4"
  }
 },
 "nbformat": 4,
 "nbformat_minor": 2
}
